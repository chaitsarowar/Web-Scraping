{
 "cells": [
  {
   "cell_type": "code",
   "execution_count": 26,
   "id": "39b0a0d5",
   "metadata": {},
   "outputs": [],
   "source": [
    "import time\n",
    "import requests\n",
    "import pandas as pd\n",
    "from bs4 import BeautifulSoup as bs"
   ]
  },
  {
   "cell_type": "code",
   "execution_count": 7,
   "id": "9d90845f",
   "metadata": {},
   "outputs": [
    {
     "data": {
      "text/plain": [
       "<Response [200]>"
      ]
     },
     "execution_count": 7,
     "metadata": {},
     "output_type": "execute_result"
    }
   ],
   "source": [
    "url = 'http://books.toscrape.com/'\n",
    "resp = requests.get(url)\n",
    "resp"
   ]
  },
  {
   "cell_type": "code",
   "execution_count": 6,
   "id": "351b682e",
   "metadata": {},
   "outputs": [],
   "source": [
    "soup = bs(resp.text)"
   ]
  },
  {
   "cell_type": "code",
   "execution_count": 8,
   "id": "ab967988",
   "metadata": {},
   "outputs": [
    {
     "data": {
      "text/plain": [
       "'All products | Books to Scrape - Sandbox'"
      ]
     },
     "execution_count": 8,
     "metadata": {},
     "output_type": "execute_result"
    }
   ],
   "source": [
    "soup.find('title').text.strip()"
   ]
  },
  {
   "cell_type": "code",
   "execution_count": 9,
   "id": "816786f1",
   "metadata": {
    "scrolled": true
   },
   "outputs": [
    {
     "data": {
      "text/plain": [
       "<article class=\"product_pod\">\n",
       "<div class=\"image_container\">\n",
       "<a href=\"catalogue/a-light-in-the-attic_1000/index.html\"><img alt=\"A Light in the Attic\" class=\"thumbnail\" src=\"media/cache/2c/da/2cdad67c44b002e7ead0cc35693c0e8b.jpg\"/></a>\n",
       "</div>\n",
       "<p class=\"star-rating Three\">\n",
       "<i class=\"icon-star\"></i>\n",
       "<i class=\"icon-star\"></i>\n",
       "<i class=\"icon-star\"></i>\n",
       "<i class=\"icon-star\"></i>\n",
       "<i class=\"icon-star\"></i>\n",
       "</p>\n",
       "<h3><a href=\"catalogue/a-light-in-the-attic_1000/index.html\" title=\"A Light in the Attic\">A Light in the ...</a></h3>\n",
       "<div class=\"product_price\">\n",
       "<p class=\"price_color\">Â£51.77</p>\n",
       "<p class=\"instock availability\">\n",
       "<i class=\"icon-ok\"></i>\n",
       "    \n",
       "        In stock\n",
       "    \n",
       "</p>\n",
       "<form>\n",
       "<button class=\"btn btn-primary btn-block\" data-loading-text=\"Adding...\" type=\"submit\">Add to basket</button>\n",
       "</form>\n",
       "</div>\n",
       "</article>"
      ]
     },
     "execution_count": 9,
     "metadata": {},
     "output_type": "execute_result"
    }
   ],
   "source": [
    "bks_tag = soup.find_all('article', class_='product_pod')\n",
    "\n",
    "bk_tag = bks_tag[0]\n",
    "bk_tag"
   ]
  },
  {
   "cell_type": "code",
   "execution_count": 11,
   "id": "a37f5c00",
   "metadata": {},
   "outputs": [
    {
     "data": {
      "text/plain": [
       "<a href=\"catalogue/a-light-in-the-attic_1000/index.html\" title=\"A Light in the Attic\">A Light in the ...</a>"
      ]
     },
     "execution_count": 11,
     "metadata": {},
     "output_type": "execute_result"
    }
   ],
   "source": [
    "ttl_tag = soup.find('a', title = True)\n",
    "ttl_tag"
   ]
  },
  {
   "cell_type": "code",
   "execution_count": 12,
   "id": "06a6a601",
   "metadata": {},
   "outputs": [
    {
     "data": {
      "text/plain": [
       "'A Light in the ...'"
      ]
     },
     "execution_count": 12,
     "metadata": {},
     "output_type": "execute_result"
    }
   ],
   "source": [
    "ttl_tag.text"
   ]
  },
  {
   "cell_type": "code",
   "execution_count": 13,
   "id": "aaaa82cf",
   "metadata": {},
   "outputs": [
    {
     "data": {
      "text/plain": [
       "'A Light in the Attic'"
      ]
     },
     "execution_count": 13,
     "metadata": {},
     "output_type": "execute_result"
    }
   ],
   "source": [
    "ttl_tag['title']"
   ]
  },
  {
   "cell_type": "code",
   "execution_count": 14,
   "id": "dfb8585a",
   "metadata": {},
   "outputs": [
    {
     "data": {
      "text/plain": [
       "'Three'"
      ]
     },
     "execution_count": 14,
     "metadata": {},
     "output_type": "execute_result"
    }
   ],
   "source": [
    "bk_tag.find('p')['class'][1]"
   ]
  },
  {
   "cell_type": "code",
   "execution_count": 15,
   "id": "6627aa29",
   "metadata": {},
   "outputs": [
    {
     "data": {
      "text/plain": [
       "'£51.77'"
      ]
     },
     "execution_count": 15,
     "metadata": {},
     "output_type": "execute_result"
    }
   ],
   "source": [
    "bk_tag.find('p', class_ = 'price_color').text[1:]"
   ]
  },
  {
   "cell_type": "code",
   "execution_count": 16,
   "id": "3d52d594",
   "metadata": {},
   "outputs": [
    {
     "data": {
      "text/plain": [
       "'http://books.toscrape.com/catalogue/a-light-in-the-attic_1000/index.html'"
      ]
     },
     "execution_count": 16,
     "metadata": {},
     "output_type": "execute_result"
    }
   ],
   "source": [
    "link = 'http://books.toscrape.com/' + bk_tag.find('a')['href']\n",
    "link"
   ]
  },
  {
   "cell_type": "code",
   "execution_count": null,
   "id": "283113ce",
   "metadata": {},
   "outputs": [],
   "source": []
  },
  {
   "cell_type": "code",
   "execution_count": 38,
   "id": "e43252df",
   "metadata": {},
   "outputs": [],
   "source": [
    "def get_details(book_tag):\n",
    "    title = book_tag.find('a', title = True)['title']\n",
    "    rating = book_tag.find('p')['class'][1]\n",
    "    price = book_tag.find('p', class_ = 'price_color').text[1:]\n",
    "    link = 'http://books.toscrape.com/' + book_tag.find('a')['href']\n",
    "    \n",
    "    return title, rating, price, link"
   ]
  },
  {
   "cell_type": "code",
   "execution_count": 39,
   "id": "0b2347fe",
   "metadata": {},
   "outputs": [],
   "source": [
    "def get_soup(url):\n",
    "    resp = requests.get(url)\n",
    "    if resp.status_code==200:\n",
    "        return bs(resp.text)\n",
    "    else:\n",
    "        return None\n",
    "    \n",
    "    \n",
    "def get_books(url):\n",
    "    soup = get_soup(url)\n",
    "    book_tags = soup.find_all('article', class_='product_pod')\n",
    "    \n",
    "    books = [get_details(book_tag) for book_tag in book_tags]\n",
    "    return books"
   ]
  },
  {
   "cell_type": "code",
   "execution_count": 40,
   "id": "e2235230",
   "metadata": {},
   "outputs": [
    {
     "data": {
      "text/plain": [
       "20"
      ]
     },
     "execution_count": 40,
     "metadata": {},
     "output_type": "execute_result"
    }
   ],
   "source": [
    "url = 'http://books.toscrape.com/'\n",
    "books = get_books(url)\n",
    "len(books)"
   ]
  },
  {
   "cell_type": "code",
   "execution_count": 41,
   "id": "f6fc36e7",
   "metadata": {},
   "outputs": [
    {
     "data": {
      "text/plain": [
       "[('A Light in the Attic',\n",
       "  'Three',\n",
       "  '£51.77',\n",
       "  'http://books.toscrape.com/catalogue/a-light-in-the-attic_1000/index.html'),\n",
       " ('Tipping the Velvet',\n",
       "  'One',\n",
       "  '£53.74',\n",
       "  'http://books.toscrape.com/catalogue/tipping-the-velvet_999/index.html')]"
      ]
     },
     "execution_count": 41,
     "metadata": {},
     "output_type": "execute_result"
    }
   ],
   "source": [
    "books[:2]"
   ]
  },
  {
   "cell_type": "code",
   "execution_count": 42,
   "id": "c079bbc7",
   "metadata": {},
   "outputs": [],
   "source": [
    "def get_all_books(page =3):\n",
    "    books = []\n",
    "    for i in range(1,page+1):\n",
    "        url = f'http://books.toscrape.com/catalogue/page-{i}.html'\n",
    "        soup = get_soup(url)\n",
    "        if soup:\n",
    "            book_tags = soup.find_all('article', class_ = 'product_pod')\n",
    "            \n",
    "            for book_tag in book_tags:\n",
    "                books.append(get_details(book_tag))\n",
    "                \n",
    "    books = pd.DataFrame(books, columns = ['title', 'rating', 'price', 'link'])\n",
    "    return books"
   ]
  },
  {
   "cell_type": "code",
   "execution_count": 44,
   "id": "ac6f8ab7",
   "metadata": {},
   "outputs": [
    {
     "data": {
      "text/html": [
       "<div>\n",
       "<style scoped>\n",
       "    .dataframe tbody tr th:only-of-type {\n",
       "        vertical-align: middle;\n",
       "    }\n",
       "\n",
       "    .dataframe tbody tr th {\n",
       "        vertical-align: top;\n",
       "    }\n",
       "\n",
       "    .dataframe thead th {\n",
       "        text-align: right;\n",
       "    }\n",
       "</style>\n",
       "<table border=\"1\" class=\"dataframe\">\n",
       "  <thead>\n",
       "    <tr style=\"text-align: right;\">\n",
       "      <th></th>\n",
       "      <th>title</th>\n",
       "      <th>rating</th>\n",
       "      <th>price</th>\n",
       "      <th>link</th>\n",
       "    </tr>\n",
       "  </thead>\n",
       "  <tbody>\n",
       "    <tr>\n",
       "      <th>0</th>\n",
       "      <td>A Light in the Attic</td>\n",
       "      <td>Three</td>\n",
       "      <td>£51.77</td>\n",
       "      <td>http://books.toscrape.com/a-light-in-the-attic...</td>\n",
       "    </tr>\n",
       "    <tr>\n",
       "      <th>1</th>\n",
       "      <td>Tipping the Velvet</td>\n",
       "      <td>One</td>\n",
       "      <td>£53.74</td>\n",
       "      <td>http://books.toscrape.com/tipping-the-velvet_9...</td>\n",
       "    </tr>\n",
       "    <tr>\n",
       "      <th>2</th>\n",
       "      <td>Soumission</td>\n",
       "      <td>One</td>\n",
       "      <td>£50.10</td>\n",
       "      <td>http://books.toscrape.com/soumission_998/index...</td>\n",
       "    </tr>\n",
       "    <tr>\n",
       "      <th>3</th>\n",
       "      <td>Sharp Objects</td>\n",
       "      <td>Four</td>\n",
       "      <td>£47.82</td>\n",
       "      <td>http://books.toscrape.com/sharp-objects_997/in...</td>\n",
       "    </tr>\n",
       "    <tr>\n",
       "      <th>4</th>\n",
       "      <td>Sapiens: A Brief History of Humankind</td>\n",
       "      <td>Five</td>\n",
       "      <td>£54.23</td>\n",
       "      <td>http://books.toscrape.com/sapiens-a-brief-hist...</td>\n",
       "    </tr>\n",
       "  </tbody>\n",
       "</table>\n",
       "</div>"
      ],
      "text/plain": [
       "                                   title rating   price   \n",
       "0                   A Light in the Attic  Three  £51.77  \\\n",
       "1                     Tipping the Velvet    One  £53.74   \n",
       "2                             Soumission    One  £50.10   \n",
       "3                          Sharp Objects   Four  £47.82   \n",
       "4  Sapiens: A Brief History of Humankind   Five  £54.23   \n",
       "\n",
       "                                                link  \n",
       "0  http://books.toscrape.com/a-light-in-the-attic...  \n",
       "1  http://books.toscrape.com/tipping-the-velvet_9...  \n",
       "2  http://books.toscrape.com/soumission_998/index...  \n",
       "3  http://books.toscrape.com/sharp-objects_997/in...  \n",
       "4  http://books.toscrape.com/sapiens-a-brief-hist...  "
      ]
     },
     "execution_count": 44,
     "metadata": {},
     "output_type": "execute_result"
    }
   ],
   "source": [
    "get_all_books(10).head()"
   ]
  },
  {
   "cell_type": "code",
   "execution_count": null,
   "id": "2bd89f50",
   "metadata": {},
   "outputs": [],
   "source": []
  },
  {
   "cell_type": "code",
   "execution_count": null,
   "id": "0c09d068",
   "metadata": {},
   "outputs": [],
   "source": []
  },
  {
   "cell_type": "code",
   "execution_count": null,
   "id": "7e21f126",
   "metadata": {},
   "outputs": [],
   "source": []
  },
  {
   "cell_type": "markdown",
   "id": "ca51a32e",
   "metadata": {},
   "source": [
    "### Final Scraping"
   ]
  },
  {
   "cell_type": "code",
   "execution_count": 102,
   "id": "667a3f8e",
   "metadata": {},
   "outputs": [],
   "source": [
    "def get_soup(url):\n",
    "    try:\n",
    "        resp = requests.get(url)\n",
    "    except:\n",
    "        return None\n",
    "    \n",
    "    if str(resp)=='<Response [200]>':\n",
    "        return bs(resp.text)\n",
    "    else:\n",
    "        print(resp, bs(resp.text))\n",
    "        return None\n",
    "    \n",
    "def get_details(book_tag):\n",
    "#   title\n",
    "    try:\n",
    "        title = book_tag.find('a', title = True)['title']\n",
    "    except:\n",
    "        title = None\n",
    "        \n",
    "#     rating\n",
    "    try:\n",
    "        rating = book_tag.find('p')['class'][1]\n",
    "        \n",
    "    except:\n",
    "        rating = None\n",
    "        \n",
    "#     price\n",
    "    try:\n",
    "        price  = book_tag.find('p', class_ = 'price_color').text[1:]\n",
    "        \n",
    "    except:\n",
    "        price = None\n",
    "        \n",
    "#     link\n",
    "    try:\n",
    "        link = 'http://books.toscrape.com/' + book_tag.find('a')['href']\n",
    "    except:\n",
    "        link = None\n",
    "        \n",
    "    return title, rating, price, link\n",
    "\n",
    "def get_all_books(page=3):\n",
    "    books = []\n",
    "    for i in range(1,page+1):\n",
    "        url = f'http://books.toscrape.com/catalogue/page-{i}.html'\n",
    "        soup = get_soup(url)\n",
    "        if soup:\n",
    "            try:\n",
    "                book_tags = soup.find_all('article', class_ = 'product_pod')\n",
    "                \n",
    "                for book_tag in book_tags:\n",
    "                    books.append(get_details(book_tag))\n",
    "            except:\n",
    "                print(f'Error reading page {i} . . .')\n",
    "\n",
    "            time.sleep(1) # sleep before making the next request\n",
    "\n",
    "    books = pd.DataFrame(books, columns=['title', 'rating', 'price', 'link'])\n",
    "    return books"
   ]
  },
  {
   "cell_type": "code",
   "execution_count": 105,
   "id": "f8a0c788",
   "metadata": {},
   "outputs": [],
   "source": [
    "df = get_all_books(20)\n",
    "# df.info"
   ]
  },
  {
   "cell_type": "code",
   "execution_count": 106,
   "id": "afc17fb1",
   "metadata": {},
   "outputs": [
    {
     "data": {
      "text/html": [
       "<div>\n",
       "<style scoped>\n",
       "    .dataframe tbody tr th:only-of-type {\n",
       "        vertical-align: middle;\n",
       "    }\n",
       "\n",
       "    .dataframe tbody tr th {\n",
       "        vertical-align: top;\n",
       "    }\n",
       "\n",
       "    .dataframe thead th {\n",
       "        text-align: right;\n",
       "    }\n",
       "</style>\n",
       "<table border=\"1\" class=\"dataframe\">\n",
       "  <thead>\n",
       "    <tr style=\"text-align: right;\">\n",
       "      <th></th>\n",
       "      <th>title</th>\n",
       "      <th>rating</th>\n",
       "      <th>price</th>\n",
       "      <th>link</th>\n",
       "    </tr>\n",
       "  </thead>\n",
       "  <tbody>\n",
       "    <tr>\n",
       "      <th>0</th>\n",
       "      <td>A Light in the Attic</td>\n",
       "      <td>Three</td>\n",
       "      <td>£51.77</td>\n",
       "      <td>http://books.toscrape.com/a-light-in-the-attic...</td>\n",
       "    </tr>\n",
       "    <tr>\n",
       "      <th>1</th>\n",
       "      <td>Tipping the Velvet</td>\n",
       "      <td>One</td>\n",
       "      <td>£53.74</td>\n",
       "      <td>http://books.toscrape.com/tipping-the-velvet_9...</td>\n",
       "    </tr>\n",
       "    <tr>\n",
       "      <th>2</th>\n",
       "      <td>Soumission</td>\n",
       "      <td>One</td>\n",
       "      <td>£50.10</td>\n",
       "      <td>http://books.toscrape.com/soumission_998/index...</td>\n",
       "    </tr>\n",
       "    <tr>\n",
       "      <th>3</th>\n",
       "      <td>Sharp Objects</td>\n",
       "      <td>Four</td>\n",
       "      <td>£47.82</td>\n",
       "      <td>http://books.toscrape.com/sharp-objects_997/in...</td>\n",
       "    </tr>\n",
       "    <tr>\n",
       "      <th>4</th>\n",
       "      <td>Sapiens: A Brief History of Humankind</td>\n",
       "      <td>Five</td>\n",
       "      <td>£54.23</td>\n",
       "      <td>http://books.toscrape.com/sapiens-a-brief-hist...</td>\n",
       "    </tr>\n",
       "    <tr>\n",
       "      <th>...</th>\n",
       "      <td>...</td>\n",
       "      <td>...</td>\n",
       "      <td>...</td>\n",
       "      <td>...</td>\n",
       "    </tr>\n",
       "    <tr>\n",
       "      <th>395</th>\n",
       "      <td>Take Me Home Tonight (Rock Star Romance #3)</td>\n",
       "      <td>Three</td>\n",
       "      <td>£53.98</td>\n",
       "      <td>http://books.toscrape.com/take-me-home-tonight...</td>\n",
       "    </tr>\n",
       "    <tr>\n",
       "      <th>396</th>\n",
       "      <td>Sleeping Giants (Themis Files #1)</td>\n",
       "      <td>One</td>\n",
       "      <td>£48.74</td>\n",
       "      <td>http://books.toscrape.com/sleeping-giants-them...</td>\n",
       "    </tr>\n",
       "    <tr>\n",
       "      <th>397</th>\n",
       "      <td>Setting the World on Fire: The Brief, Astonish...</td>\n",
       "      <td>Two</td>\n",
       "      <td>£21.15</td>\n",
       "      <td>http://books.toscrape.com/setting-the-world-on...</td>\n",
       "    </tr>\n",
       "    <tr>\n",
       "      <th>398</th>\n",
       "      <td>Playing with Fire</td>\n",
       "      <td>Three</td>\n",
       "      <td>£13.71</td>\n",
       "      <td>http://books.toscrape.com/playing-with-fire_60...</td>\n",
       "    </tr>\n",
       "    <tr>\n",
       "      <th>399</th>\n",
       "      <td>Off the Hook (Fishing for Trouble #1)</td>\n",
       "      <td>Three</td>\n",
       "      <td>£47.67</td>\n",
       "      <td>http://books.toscrape.com/off-the-hook-fishing...</td>\n",
       "    </tr>\n",
       "  </tbody>\n",
       "</table>\n",
       "<p>400 rows × 4 columns</p>\n",
       "</div>"
      ],
      "text/plain": [
       "                                                 title rating   price   \n",
       "0                                 A Light in the Attic  Three  £51.77  \\\n",
       "1                                   Tipping the Velvet    One  £53.74   \n",
       "2                                           Soumission    One  £50.10   \n",
       "3                                        Sharp Objects   Four  £47.82   \n",
       "4                Sapiens: A Brief History of Humankind   Five  £54.23   \n",
       "..                                                 ...    ...     ...   \n",
       "395        Take Me Home Tonight (Rock Star Romance #3)  Three  £53.98   \n",
       "396                  Sleeping Giants (Themis Files #1)    One  £48.74   \n",
       "397  Setting the World on Fire: The Brief, Astonish...    Two  £21.15   \n",
       "398                                  Playing with Fire  Three  £13.71   \n",
       "399              Off the Hook (Fishing for Trouble #1)  Three  £47.67   \n",
       "\n",
       "                                                  link  \n",
       "0    http://books.toscrape.com/a-light-in-the-attic...  \n",
       "1    http://books.toscrape.com/tipping-the-velvet_9...  \n",
       "2    http://books.toscrape.com/soumission_998/index...  \n",
       "3    http://books.toscrape.com/sharp-objects_997/in...  \n",
       "4    http://books.toscrape.com/sapiens-a-brief-hist...  \n",
       "..                                                 ...  \n",
       "395  http://books.toscrape.com/take-me-home-tonight...  \n",
       "396  http://books.toscrape.com/sleeping-giants-them...  \n",
       "397  http://books.toscrape.com/setting-the-world-on...  \n",
       "398  http://books.toscrape.com/playing-with-fire_60...  \n",
       "399  http://books.toscrape.com/off-the-hook-fishing...  \n",
       "\n",
       "[400 rows x 4 columns]"
      ]
     },
     "execution_count": 106,
     "metadata": {},
     "output_type": "execute_result"
    }
   ],
   "source": [
    "df"
   ]
  },
  {
   "cell_type": "code",
   "execution_count": null,
   "id": "26bff755",
   "metadata": {},
   "outputs": [],
   "source": []
  }
 ],
 "metadata": {
  "kernelspec": {
   "display_name": "Python 3 (ipykernel)",
   "language": "python",
   "name": "python3"
  },
  "language_info": {
   "codemirror_mode": {
    "name": "ipython",
    "version": 3
   },
   "file_extension": ".py",
   "mimetype": "text/x-python",
   "name": "python",
   "nbconvert_exporter": "python",
   "pygments_lexer": "ipython3",
   "version": "3.10.13"
  }
 },
 "nbformat": 4,
 "nbformat_minor": 5
}
